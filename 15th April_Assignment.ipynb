{
 "cells": [
  {
   "cell_type": "code",
   "execution_count": 4,
   "metadata": {},
   "outputs": [
    {
     "name": "stdout",
     "output_type": "stream",
     "text": [
      "Mithila Hadap\n",
      "B-201,Camellia, Nahar Amrit Shakti\n",
      "Chandivali\n",
      "Andheri '(East)'\n",
      "Mumbai-400072\n"
     ]
    }
   ],
   "source": [
    "## Ex 1:Mailing address\n",
    "a=\"Mithila Hadap\\nB-201,Camellia, Nahar Amrit Shakti\\nChandivali\\nAndheri '(East)'\\nMumbai-400072\"\n",
    "print(a)"
   ]
  },
  {
   "cell_type": "code",
   "execution_count": 5,
   "metadata": {},
   "outputs": [
    {
     "name": "stdout",
     "output_type": "stream",
     "text": [
      "Please enter your nameMitthila\n",
      "Hello Mitthila\n"
     ]
    }
   ],
   "source": [
    "##Ex 2:\n",
    "name=input(\"Please enter your name\")\n",
    "print(\"Hello {}\".format(name))"
   ]
  },
  {
   "cell_type": "code",
   "execution_count": 7,
   "metadata": {},
   "outputs": [
    {
     "name": "stdout",
     "output_type": "stream",
     "text": [
      "enter the length of the room35\n",
      "enter the breadth of the room25\n",
      "The area of the room is 875.0 meters\n"
     ]
    }
   ],
   "source": [
    "#Ex 3:\n",
    "l=input(\"enter the length of the room\")\n",
    "b=input(\"enter the breadth of the room\")\n",
    "l=float(l)\n",
    "b=float(b)\n",
    "area=l*b\n",
    "print(\"The area of the room is {} meters\".format(area))"
   ]
  },
  {
   "cell_type": "code",
   "execution_count": 8,
   "metadata": {},
   "outputs": [
    {
     "name": "stdout",
     "output_type": "stream",
     "text": [
      "please enter the length in feet24.5\n",
      "please enter the breadth in feet33.5\n",
      "the area in heactares is 0.01884182736455464\n"
     ]
    }
   ],
   "source": [
    "#Ex 4:\n",
    "l=input(\"please enter the length in feet\")\n",
    "b=input(\"please enter the breadth in feet\")\n",
    "l=float(l)\n",
    "b=float(b)\n",
    "a=(l*b)/43560\n",
    "print(\"the area in heactares is {}\".format(a))"
   ]
  },
  {
   "cell_type": "code",
   "execution_count": null,
   "metadata": {},
   "outputs": [],
   "source": [
    "#Ex : 5\n"
   ]
  }
 ],
 "metadata": {
  "kernelspec": {
   "display_name": "Python 3",
   "language": "python",
   "name": "python3"
  },
  "language_info": {
   "codemirror_mode": {
    "name": "ipython",
    "version": 3
   },
   "file_extension": ".py",
   "mimetype": "text/x-python",
   "name": "python",
   "nbconvert_exporter": "python",
   "pygments_lexer": "ipython3",
   "version": "3.7.3"
  }
 },
 "nbformat": 4,
 "nbformat_minor": 2
}
